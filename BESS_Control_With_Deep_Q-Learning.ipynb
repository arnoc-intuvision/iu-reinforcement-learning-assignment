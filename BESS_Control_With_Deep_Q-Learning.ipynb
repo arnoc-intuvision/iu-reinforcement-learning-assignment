{
 "cells": [
  {
   "cell_type": "markdown",
   "metadata": {},
   "source": [
    "### Import Library Dependencies"
   ]
  },
  {
   "cell_type": "code",
   "execution_count": 1,
   "metadata": {
    "colab": {
     "base_uri": "https://localhost:8080/"
    },
    "editable": true,
    "id": "o7PWB_zAnAzL",
    "outputId": "4d8fcddb-c52d-4295-8696-a8f576735052",
    "slideshow": {
     "slide_type": ""
    },
    "tags": []
   },
   "outputs": [
    {
     "name": "stderr",
     "output_type": "stream",
     "text": [
      "/Users/arnocombrinck/Jupyter Notebook/IUBH/Reinforcement Learning/rl_assignment/rl_assignment/lib/python3.11/site-packages/ignite/handlers/checkpoint.py:16: DeprecationWarning: `TorchScript` support for functional optimizers is deprecated and will be removed in a future PyTorch release. Consider using the `torch.compile` optimizer instead.\n",
      "  from torch.distributed.optim import ZeroRedundancyOptimizer\n"
     ]
    }
   ],
   "source": [
    "from microgrid_gym_env import MicrogridEnv\n",
    "from double_dqn_agent import DoubleDQNAgent\n",
    "from load_profile_data_loader import LoadProfileDataLoader"
   ]
  },
  {
   "cell_type": "markdown",
   "metadata": {},
   "source": [
    "### Import Microgrid Load Profile Data"
   ]
  },
  {
   "cell_type": "code",
   "execution_count": 2,
   "metadata": {
    "scrolled": true
   },
   "outputs": [
    {
     "name": "stdout",
     "output_type": "stream",
     "text": [
      "\n",
      "Data successfully loaded from path => load_profile_data_nov2024.csv\n",
      "\n",
      "Info: \n",
      "\n",
      "<class 'pandas.core.frame.DataFrame'>\n",
      "DatetimeIndex: 528 entries, 2024-11-01 00:00:00 to 2024-11-22 23:00:00\n",
      "Data columns (total 12 columns):\n",
      " #   Column               Non-Null Count  Dtype  \n",
      "---  ------               --------------  -----  \n",
      " 0   ts_hour_sin          528 non-null    float64\n",
      " 1   ts_hour_cos          528 non-null    float64\n",
      " 2   tou_offpeak          528 non-null    int64  \n",
      " 3   tou_standard         528 non-null    int64  \n",
      " 4   tou_peak             528 non-null    int64  \n",
      " 5   day_week             528 non-null    int64  \n",
      " 6   day_saturday         528 non-null    int64  \n",
      " 7   day_sunday           528 non-null    int64  \n",
      " 8   site_load_energy     528 non-null    float64\n",
      " 9   solar_prod_energy    528 non-null    float64\n",
      " 10  solar_ctlr_setpoint  528 non-null    float64\n",
      " 11  grid_import_energy   528 non-null    float64\n",
      "dtypes: float64(6), int64(6)\n",
      "memory usage: 53.6 KB\n",
      "None\n",
      "\n",
      "Summary Statistics: \n",
      "\n",
      "       ts_hour_sin  ts_hour_cos  tou_offpeak  tou_standard    tou_peak  \\\n",
      "count   528.000000   528.000000   528.000000    528.000000  528.000000   \n",
      "mean      0.040825    -0.022538     0.441288      0.407197    0.151515   \n",
      "std       0.698076     0.715827     0.497012      0.491778    0.358890   \n",
      "min      -0.999990    -0.999961     0.000000      0.000000    0.000000   \n",
      "25%      -0.595763    -0.680155     0.000000      0.000000    0.000000   \n",
      "50%       0.070560    -0.070537     0.000000      0.000000    0.000000   \n",
      "75%       0.701904     0.683713     1.000000      1.000000    0.000000   \n",
      "max       0.990607     1.000000     1.000000      1.000000    1.000000   \n",
      "\n",
      "         day_week  day_saturday  day_sunday  site_load_energy  \\\n",
      "count  528.000000    528.000000  528.000000        528.000000   \n",
      "mean     0.727273      0.136364    0.136364       1231.802273   \n",
      "std      0.445784      0.343500    0.343500        311.643441   \n",
      "min      0.000000      0.000000    0.000000        534.680000   \n",
      "25%      0.000000      0.000000    0.000000       1096.000000   \n",
      "50%      1.000000      0.000000    0.000000       1299.100000   \n",
      "75%      1.000000      0.000000    0.000000       1462.275000   \n",
      "max      1.000000      1.000000    1.000000       1784.600000   \n",
      "\n",
      "       solar_prod_energy  solar_ctlr_setpoint  grid_import_energy  \n",
      "count         528.000000           528.000000          528.000000  \n",
      "mean          286.201705            96.510216          945.600568  \n",
      "std           396.968628            11.765866          451.611783  \n",
      "min             0.000000            33.672000           67.700000  \n",
      "25%             0.000000           100.000000          598.725000  \n",
      "50%            30.335000           100.000000         1063.200000  \n",
      "75%           519.625000           100.000000         1313.525000  \n",
      "max          1390.000000           100.000000         1784.600000  \n",
      "\n",
      "\n",
      "\n",
      "Data successfully loaded from path => load_profile_data_nov2024.csv\n",
      "\n",
      "Info: \n",
      "\n",
      "<class 'pandas.core.frame.DataFrame'>\n",
      "DatetimeIndex: 192 entries, 2024-11-23 00:00:00 to 2024-11-30 23:00:00\n",
      "Data columns (total 12 columns):\n",
      " #   Column               Non-Null Count  Dtype  \n",
      "---  ------               --------------  -----  \n",
      " 0   ts_hour_sin          192 non-null    float64\n",
      " 1   ts_hour_cos          192 non-null    float64\n",
      " 2   tou_offpeak          192 non-null    int64  \n",
      " 3   tou_standard         192 non-null    int64  \n",
      " 4   tou_peak             192 non-null    int64  \n",
      " 5   day_week             192 non-null    int64  \n",
      " 6   day_saturday         192 non-null    int64  \n",
      " 7   day_sunday           192 non-null    int64  \n",
      " 8   site_load_energy     192 non-null    float64\n",
      " 9   solar_prod_energy    192 non-null    float64\n",
      " 10  solar_ctlr_setpoint  192 non-null    float64\n",
      " 11  grid_import_energy   192 non-null    float64\n",
      "dtypes: float64(6), int64(6)\n",
      "memory usage: 19.5 KB\n",
      "None\n",
      "\n",
      "Summary Statistics: \n",
      "\n",
      "       ts_hour_sin  ts_hour_cos  tou_offpeak  tou_standard    tou_peak  \\\n",
      "count   192.000000   192.000000   192.000000    192.000000  192.000000   \n",
      "mean      0.040825    -0.022538     0.447917      0.421875    0.130208   \n",
      "std       0.699238     0.717019     0.498580      0.495150    0.337412   \n",
      "min      -0.999990    -0.999961     0.000000      0.000000    0.000000   \n",
      "25%      -0.595763    -0.680155     0.000000      0.000000    0.000000   \n",
      "50%       0.070560    -0.070537     0.000000      0.000000    0.000000   \n",
      "75%       0.701904     0.683713     1.000000      1.000000    0.000000   \n",
      "max       0.990607     1.000000     1.000000      1.000000    1.000000   \n",
      "\n",
      "         day_week  day_saturday  day_sunday  site_load_energy  \\\n",
      "count  192.000000    192.000000  192.000000        192.000000   \n",
      "mean     0.625000      0.250000    0.125000       1275.588438   \n",
      "std      0.485389      0.434145    0.331584        366.660020   \n",
      "min      0.000000      0.000000    0.000000          0.000000   \n",
      "25%      0.000000      0.000000    0.000000        917.842500   \n",
      "50%      1.000000      0.000000    0.000000       1401.300000   \n",
      "75%      1.000000      0.250000    0.000000       1560.075000   \n",
      "max      1.000000      1.000000    1.000000       1934.700000   \n",
      "\n",
      "       solar_prod_energy  solar_ctlr_setpoint  grid_import_energy  \n",
      "count         192.000000           192.000000          192.000000  \n",
      "mean          360.609792            96.763682          914.978646  \n",
      "std           455.948039            11.132024          517.696009  \n",
      "min             0.000000             0.100000            0.000000  \n",
      "25%             0.000000           100.000000          470.925000  \n",
      "50%            44.450000           100.000000          877.050000  \n",
      "75%           653.155000           100.000000         1404.225000  \n",
      "max          1443.100000           100.000000         1934.700000  \n",
      "\n",
      "\n"
     ]
    }
   ],
   "source": [
    "data_loader = LoadProfileDataLoader(csv_file_path=\"load_profile_data_nov2024.csv\")\n",
    "train_load_profile_data = data_loader.load_data(from_date='2024-11-01', to_date='2024-11-22')\n",
    "test_load_profile_data = data_loader.load_data(from_date='2024-11-23', to_date='2024-11-30')"
   ]
  },
  {
   "cell_type": "code",
   "execution_count": 3,
   "metadata": {},
   "outputs": [],
   "source": [
    "mini_flex_high_demand_tariff = {'peak_rate': 624.05, 'standard_rate': 189.08, 'offpeak_rate': 102.70}\n",
    "mini_flex_low_demand_tariff = {'peak_rate': 203.57, 'standard_rate': 140.10, 'offpeak_rate': 88.91}\n",
    "selected_tariff = mini_flex_high_demand_tariff"
   ]
  },
  {
   "cell_type": "markdown",
   "metadata": {},
   "source": [
    "### Initialize Microgrid Training Environment"
   ]
  },
  {
   "cell_type": "code",
   "execution_count": 4,
   "metadata": {
    "scrolled": true
   },
   "outputs": [
    {
     "name": "stderr",
     "output_type": "stream",
     "text": [
      "Line:445-display_info-INFO:  Environment Setup: \n",
      "Line:446-display_info-INFO:  \n",
      "    Grid Notified Maximum Demand: 2000.0 kVA\n",
      "    BESS Capacity: 3000.0 kWh\n",
      "    BESS Actions: charge-1000, charge-250, do-nothing, discharge-250, discharge-1000\n",
      "    \n",
      "Line:452-display_info-INFO:  \n",
      "Data Summary: \n",
      "Line:453-display_info-INFO:  None\n",
      "Line:454-display_info-INFO:  \n",
      "\n"
     ]
    },
    {
     "name": "stdout",
     "output_type": "stream",
     "text": [
      "<class 'pandas.core.frame.DataFrame'>\n",
      "DatetimeIndex: 528 entries, 2024-11-01 00:00:00 to 2024-11-22 23:00:00\n",
      "Data columns (total 12 columns):\n",
      " #   Column               Non-Null Count  Dtype  \n",
      "---  ------               --------------  -----  \n",
      " 0   ts_hour_sin          528 non-null    float64\n",
      " 1   ts_hour_cos          528 non-null    float64\n",
      " 2   tou_offpeak          528 non-null    int64  \n",
      " 3   tou_standard         528 non-null    int64  \n",
      " 4   tou_peak             528 non-null    int64  \n",
      " 5   day_week             528 non-null    int64  \n",
      " 6   day_saturday         528 non-null    int64  \n",
      " 7   day_sunday           528 non-null    int64  \n",
      " 8   site_load_energy     528 non-null    float64\n",
      " 9   solar_prod_energy    528 non-null    float64\n",
      " 10  solar_ctlr_setpoint  528 non-null    float64\n",
      " 11  grid_import_energy   528 non-null    float64\n",
      "dtypes: float64(6), int64(6)\n",
      "memory usage: 53.6 KB\n"
     ]
    },
    {
     "data": {
      "text/plain": [
       "(array([0.0000e+00, 1.0000e+00, 1.0000e+00, 0.0000e+00, 0.0000e+00,\n",
       "        1.0000e+00, 0.0000e+00, 0.0000e+00, 1.3394e+03, 0.0000e+00,\n",
       "        1.0000e+02, 1.0000e+02]),\n",
       " {})"
      ]
     },
     "execution_count": 4,
     "metadata": {},
     "output_type": "execute_result"
    }
   ],
   "source": [
    "train_env = MicrogridEnv(data = train_load_profile_data, \n",
    "                         grid_notified_maximum_demand = 2000.0, \n",
    "                         bess_capacity = 3000.0, \n",
    "                         bess_cycle_efficiency = 0.9, \n",
    "                         bess_step_sizes = [1000.0, 250.0, 0.0, 250.0, 1000.0], \n",
    "                         tou_peak_tariff = selected_tariff['peak_rate'] / 100.0, \n",
    "                         tou_standard_tariff = selected_tariff['standard_rate'] / 100.0, \n",
    "                         tou_offpeak_tariff = selected_tariff['offpeak_rate'] / 100.0, \n",
    "                         solar_ppa_tariff = 1.4,\n",
    "                         debug_flag = False)\n",
    "\n",
    "train_env.reset()"
   ]
  },
  {
   "cell_type": "markdown",
   "metadata": {},
   "source": [
    "### Initialize Double DQN Agent For Training"
   ]
  },
  {
   "cell_type": "code",
   "execution_count": null,
   "metadata": {
    "editable": true,
    "slideshow": {
     "slide_type": ""
    },
    "tags": []
   },
   "outputs": [
    {
     "name": "stderr",
     "output_type": "stream",
     "text": [
      "Line:96-display_dqn_net-INFO:  \n",
      "Torch Compute Device -> mps\n",
      "\n",
      "Line:98-display_dqn_net-INFO:  Double DQN Model Architecture -> \n"
     ]
    },
    {
     "name": "stdout",
     "output_type": "stream",
     "text": [
      "DoubleDQNModel(\n",
      "  (val_net): Sequential(\n",
      "    (0): Linear(in_features=12, out_features=1024, bias=True)\n",
      "    (1): ReLU()\n",
      "    (2): Linear(in_features=1024, out_features=1024, bias=True)\n",
      "    (3): ReLU()\n",
      "    (4): Linear(in_features=1024, out_features=512, bias=True)\n",
      "    (5): ReLU()\n",
      "    (6): Linear(in_features=512, out_features=512, bias=True)\n",
      "    (7): ReLU()\n",
      "    (8): Linear(in_features=512, out_features=1, bias=True)\n",
      "  )\n",
      "  (adv_net): Sequential(\n",
      "    (0): NoisyLinear(in_features=12, out_features=1024, bias=True)\n",
      "    (1): ReLU()\n",
      "    (2): NoisyLinear(in_features=1024, out_features=1024, bias=True)\n",
      "    (3): ReLU()\n",
      "    (4): NoisyLinear(in_features=1024, out_features=512, bias=True)\n",
      "    (5): ReLU()\n",
      "    (6): NoisyLinear(in_features=512, out_features=512, bias=True)\n",
      "    (7): ReLU()\n",
      "    (8): NoisyLinear(in_features=512, out_features=5, bias=True)\n",
      "  )\n",
      ")\n"
     ]
    }
   ],
   "source": [
    "agent = DoubleDQNAgent(env=train_env, \n",
    "                       discount_factor=0.98,\n",
    "                       td_n_steps_unroll=3,\n",
    "                       initial_lr=0.0005, \n",
    "                       final_lr_factor=0.01,\n",
    "                       total_training_steps=200_000,\n",
    "                       per_alpha=0.6,\n",
    "                       per_beta=0.4,\n",
    "                       per_beta_increment=0.6/200_000,\n",
    "                       exp_batch_size=24*7*8, # 8 episodes\n",
    "                       exp_buffer_size=24*7*1024, # 1024 episodes\n",
    "                       exp_min_buffer_samples=24*7*32, # 32 episodes\n",
    "                       target_model_sync_steps=24*7*32, # 32 episodes\n",
    "                       episode_len=24*7, # 1 episode = 1 week\n",
    "                       stop_reward=1000.0)"
   ]
  },
  {
   "cell_type": "markdown",
   "metadata": {},
   "source": [
    "### Train Double DQN Agent"
   ]
  },
  {
   "cell_type": "code",
   "execution_count": null,
   "metadata": {
    "scrolled": true
   },
   "outputs": [
    {
     "name": "stdout",
     "output_type": "stream",
     "text": [
      "    [5376] -> Sync target model weights !\n",
      "\n",
      "                        New Best Episode Reward Metrics:\n",
      "                            Episode Number: 0\n",
      "                            Step Number: 5376\n",
      "                            Best Episode Reward: Prev:-999999.00 -> New:-48.29\n",
      "                        \n",
      "    [10752] -> Sync target model weights !\n",
      "\n",
      "                        New Best Episode Reward Metrics:\n",
      "                            Episode Number: 40\n",
      "                            Step Number: 12096\n",
      "                            Best Episode Reward: Prev:-48.29 -> New:-29.38\n",
      "                        \n",
      "\n",
      "                        New Best Episode Reward Metrics:\n",
      "                            Episode Number: 50\n",
      "                            Step Number: 13776\n",
      "                            Best Episode Reward: Prev:-29.38 -> New:-15.54\n",
      "                        \n",
      "    [16128] -> Sync target model weights !\n",
      "    [21504] -> Sync target model weights !\n",
      "    [26880] -> Sync target model weights !\n",
      "    [32256] -> Sync target model weights !\n",
      "    [37632] -> Sync target model weights !\n",
      "\n",
      "                        New Best Episode Reward Metrics:\n",
      "                            Episode Number: 210\n",
      "                            Step Number: 40656\n",
      "                            Best Episode Reward: Prev:-15.54 -> New:-13.81\n",
      "                        \n",
      "    [43008] -> Sync target model weights !\n",
      "\n",
      "                        New Best Episode Reward Metrics:\n",
      "                            Episode Number: 250\n",
      "                            Step Number: 47376\n",
      "                            Best Episode Reward: Prev:-13.81 -> New:-13.80\n",
      "                        \n",
      "    [48384] -> Sync target model weights !\n",
      "\n",
      "                        New Best Episode Reward Metrics:\n",
      "                            Episode Number: 270\n",
      "                            Step Number: 50736\n",
      "                            Best Episode Reward: Prev:-13.80 -> New: 8.52\n",
      "                        \n",
      "    [53760] -> Sync target model weights !\n",
      "\n",
      "                        New Best Episode Reward Metrics:\n",
      "                            Episode Number: 300\n",
      "                            Step Number: 55776\n",
      "                            Best Episode Reward: Prev: 8.52 -> New: 20.70\n",
      "                        \n"
     ]
    }
   ],
   "source": [
    "agent.learn()"
   ]
  },
  {
   "cell_type": "markdown",
   "metadata": {},
   "source": [
    "### Test Double DQN Model"
   ]
  },
  {
   "cell_type": "code",
   "execution_count": null,
   "metadata": {},
   "outputs": [],
   "source": [
    "import numpy as np\n",
    "import torch\n",
    "from double_dqn_model import DoubleDQNModel\n",
    "from torch.utils.tensorboard.writer import SummaryWriter\n",
    "\n",
    "dqn_agent_model = DoubleDQNModel(input_shape=12, n_actions=5)\n",
    "dqn_agent_model.load_state_dict(torch.load(\"double_dqn_model_weights.pth\", weights_only=True))\n",
    "dqn_agent_model.eval()"
   ]
  },
  {
   "cell_type": "code",
   "execution_count": null,
   "metadata": {},
   "outputs": [],
   "source": [
    "test_env = MicrogridEnv(data = test_load_profile_data, \n",
    "                        grid_notified_maximum_demand = 2000.0, \n",
    "                        bess_capacity = 3000.0, \n",
    "                        bess_cycle_efficiency = 0.9, \n",
    "                        bess_step_sizes = [1000.0, 250.0, 0.0, 250.0, 1000.0], \n",
    "                        tou_peak_tariff = selected_tariff['peak_rate'] / 100.0, \n",
    "                        tou_standard_tariff = selected_tariff['standard_rate'] / 100.0, \n",
    "                        tou_offpeak_tariff = selected_tariff['offpeak_rate'] / 100.0, \n",
    "                        solar_ppa_tariff = 1.4,\n",
    "                        debug_flag = True)\n",
    "\n",
    "test_env.reset()"
   ]
  },
  {
   "cell_type": "code",
   "execution_count": null,
   "metadata": {
    "scrolled": true
   },
   "outputs": [],
   "source": [
    "dqn_agent_reward = 0.0\n",
    "action_energy_vals = [-1000.0, -250.0, 0.0, 250.0, 1000.0]\n",
    "\n",
    "writer = SummaryWriter(comment=\"DoubleDQNAgent-TestEnv\")\n",
    "\n",
    "state, _ = test_env.reset()\n",
    "\n",
    "for state_idx in range(24*7):\n",
    "\n",
    "    state_t = torch.as_tensor(np.array(state)).float() # Convert state to torch tensor\n",
    "    state_t = state_t.unsqueeze(0) # Add batch dimension (shape: [1, state_dim]) \n",
    "    \n",
    "    q_vals = dqn_agent_model(state_t)\n",
    "\n",
    "    action = torch.argmax(q_vals, dim=1).item()  # Select action with max Q-value\n",
    "\n",
    "    action_energy = action_energy_vals[action]  # Convert action index to energy value\n",
    "\n",
    "    state, reward, done, truncated, _ = test_env.step(action=action)\n",
    "\n",
    "    writer.add_scalars(\"Microgrid Environment State\", {\"Grid Import Energy\": state[8], \n",
    "                                                       \"Solar PV Production Energy\": state[9],\n",
    "                                                       \"BESS SoC\": state[11],\n",
    "                                                       \"Agent Selected Action Energy\": action_energy}, \n",
    "                                                       state_idx)\n",
    "    \n",
    "    writer.add_scalar(\"DoubleDQN Agent Selected Action Energy\", action_energy, state_idx)\n",
    "\n",
    "    writer.add_scalar(\"DoubleDQN Agent Cumulative Reward\", dqn_agent_reward, state_idx)\n",
    "\n",
    "    dqn_agent_reward += reward"
   ]
  },
  {
   "cell_type": "code",
   "execution_count": null,
   "metadata": {},
   "outputs": [],
   "source": [
    "print(f\"Total DQN Agent Test Reward: {dqn_agent_reward: .2f}\")"
   ]
  },
  {
   "cell_type": "markdown",
   "metadata": {},
   "source": [
    "### Run Fixed Rule Policy For Baseline"
   ]
  },
  {
   "cell_type": "code",
   "execution_count": null,
   "metadata": {
    "scrolled": true
   },
   "outputs": [],
   "source": [
    "fixed_rule_reward = 0.0\n",
    "action_energy_vals = [-1000.0, -250.0, 0.0, 250.0, 1000.0]\n",
    "\n",
    "writer = SummaryWriter(comment=\"FixedRuleAgent-TestEnv\")\n",
    "\n",
    "state, _ = test_env.reset()\n",
    "\n",
    "for state_idx in range(24*7):\n",
    "\n",
    "    action = test_env.rule_based_policy()\n",
    "\n",
    "    action_energy = action_energy_vals[action]\n",
    "\n",
    "    state, reward, done, truncated, _ = test_env.step(action=action)\n",
    "\n",
    "    writer.add_scalars(\"Microgrid Environment State\", {\"Grid Import Energy\": state[8], \n",
    "                                                       \"Solar PV Production Energy\": state[9],\n",
    "                                                       \"BESS SoC\": state[11],\n",
    "                                                       \"Agent Selected Action Energy\": action_energy}, \n",
    "                                                       state_idx)\n",
    "    \n",
    "    writer.add_scalar(\"FixedRule Agent Selected Action Energy\", action_energy, state_idx)\n",
    "\n",
    "    writer.add_scalar(\"FixedRule Agent Cumulative Reward\", fixed_rule_reward, state_idx)\n",
    "\n",
    "    fixed_rule_reward += reward"
   ]
  },
  {
   "cell_type": "code",
   "execution_count": null,
   "metadata": {},
   "outputs": [],
   "source": [
    "print(f\"Total Fixed Rule Test Reward: {fixed_rule_reward: .2f}\")"
   ]
  },
  {
   "cell_type": "code",
   "execution_count": null,
   "metadata": {},
   "outputs": [],
   "source": []
  }
 ],
 "metadata": {
  "accelerator": "GPU",
  "colab": {
   "gpuType": "T4",
   "provenance": []
  },
  "gpuClass": "standard",
  "kernelspec": {
   "display_name": "rl_assignment",
   "language": "python",
   "name": "python3"
  },
  "language_info": {
   "codemirror_mode": {
    "name": "ipython",
    "version": 3
   },
   "file_extension": ".py",
   "mimetype": "text/x-python",
   "name": "python",
   "nbconvert_exporter": "python",
   "pygments_lexer": "ipython3",
   "version": "3.11.8"
  }
 },
 "nbformat": 4,
 "nbformat_minor": 4
}
