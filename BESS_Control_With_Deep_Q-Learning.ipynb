{
 "cells": [
  {
   "cell_type": "markdown",
   "metadata": {},
   "source": [
    "### Import Library Dependencies"
   ]
  },
  {
   "cell_type": "code",
   "execution_count": null,
   "metadata": {
    "colab": {
     "base_uri": "https://localhost:8080/"
    },
    "editable": true,
    "id": "o7PWB_zAnAzL",
    "outputId": "4d8fcddb-c52d-4295-8696-a8f576735052",
    "slideshow": {
     "slide_type": ""
    },
    "tags": []
   },
   "outputs": [],
   "source": [
    "from microgrid_gym_env import MicrogridEnv\n",
    "from double_dqn_agent import DoubleDQNAgent\n",
    "from load_profile_data_loader import LoadProfileDataLoader"
   ]
  },
  {
   "cell_type": "markdown",
   "metadata": {},
   "source": [
    "### Import Microgrid Load Profile Data"
   ]
  },
  {
   "cell_type": "code",
   "execution_count": null,
   "metadata": {
    "scrolled": true
   },
   "outputs": [],
   "source": [
    "data_loader = LoadProfileDataLoader(csv_file_path=\"load_profile_data_nov2024.csv\")\n",
    "train_load_profile_data = data_loader.load_data(from_date='2024-11-01', to_date='2024-11-22')\n",
    "test_load_profile_data = data_loader.load_data(from_date='2024-11-23', to_date='2024-11-30')"
   ]
  },
  {
   "cell_type": "code",
   "execution_count": null,
   "metadata": {},
   "outputs": [],
   "source": [
    "mini_flex_high_demand_tariff = {'peak_rate': 624.05, 'standard_rate': 189.08, 'offpeak_rate': 102.70}\n",
    "mini_flex_low_demand_tariff = {'peak_rate': 203.57, 'standard_rate': 140.10, 'offpeak_rate': 88.91}\n",
    "selected_tariff = mini_flex_high_demand_tariff"
   ]
  },
  {
   "cell_type": "markdown",
   "metadata": {},
   "source": [
    "### Initialize Microgrid Training Environment"
   ]
  },
  {
   "cell_type": "code",
   "execution_count": null,
   "metadata": {
    "scrolled": true
   },
   "outputs": [],
   "source": [
    "train_env = MicrogridEnv(data = train_load_profile_data, \n",
    "                         grid_notified_maximum_demand = 2000.0, \n",
    "                         bess_capacity = 3000.0, \n",
    "                         bess_cycle_efficiency = 0.9, \n",
    "                         bess_step_sizes = [1000.0, 250.0, 0.0, 250.0, 1000.0], \n",
    "                         tou_peak_tariff = selected_tariff['peak_rate'] / 100.0, \n",
    "                         tou_standard_tariff = selected_tariff['standard_rate'] / 100.0, \n",
    "                         tou_offpeak_tariff = selected_tariff['offpeak_rate'] / 100.0, \n",
    "                         solar_ppa_tariff = 1.4,\n",
    "                         debug_flag = False)\n",
    "\n",
    "train_env.reset()"
   ]
  },
  {
   "cell_type": "markdown",
   "metadata": {},
   "source": [
    "### Initialize Double DQN Agent For Training"
   ]
  },
  {
   "cell_type": "code",
   "execution_count": null,
   "metadata": {
    "editable": true,
    "slideshow": {
     "slide_type": ""
    },
    "tags": []
   },
   "outputs": [],
   "source": [
    "agent = DoubleDQNAgent(env=train_env, \n",
    "                       discount_factor=0.98,\n",
    "                       td_n_steps_unroll=3,\n",
    "                       initial_lr=0.0005, \n",
    "                       final_lr_factor=0.01,\n",
    "                       total_training_steps=200_000,\n",
    "                       per_alpha=0.6,\n",
    "                       per_beta=0.4,\n",
    "                       per_beta_increment=0.6/200_000,\n",
    "                       exp_batch_size=24*7*8, # 8 episodes\n",
    "                       exp_buffer_size=24*7*1024, # 1024 episodes\n",
    "                       exp_min_buffer_samples=24*7*32, # 32 episodes\n",
    "                       target_model_sync_steps=24*7*32, # 32 episodes\n",
    "                       episode_len=24*7, # 1 episode = 1 week\n",
    "                       stop_reward=250.0)"
   ]
  },
  {
   "cell_type": "markdown",
   "metadata": {},
   "source": [
    "### Train Double DQN Agent"
   ]
  },
  {
   "cell_type": "code",
   "execution_count": null,
   "metadata": {
    "scrolled": true
   },
   "outputs": [],
   "source": [
    "agent.learn()"
   ]
  },
  {
   "cell_type": "markdown",
   "metadata": {},
   "source": [
    "### Test Double DQN Model"
   ]
  },
  {
   "cell_type": "code",
   "execution_count": null,
   "metadata": {},
   "outputs": [],
   "source": [
    "import numpy as np\n",
    "import torch\n",
    "from double_dqn_model import DoubleDQNModel\n",
    "from torch.utils.tensorboard.writer import SummaryWriter\n",
    "\n",
    "dqn_agent_model = DoubleDQNModel(input_shape=12, n_actions=5)\n",
    "dqn_agent_model.load_state_dict(torch.load(\"double_dqn_model_weights.pth\", weights_only=True))\n",
    "dqn_agent_model.eval()"
   ]
  },
  {
   "cell_type": "code",
   "execution_count": null,
   "metadata": {},
   "outputs": [],
   "source": [
    "test_env = MicrogridEnv(data = test_load_profile_data, \n",
    "                        grid_notified_maximum_demand = 2000.0, \n",
    "                        bess_capacity = 3000.0, \n",
    "                        bess_cycle_efficiency = 0.9, \n",
    "                        bess_step_sizes = [1000.0, 250.0, 0.0, 250.0, 1000.0], \n",
    "                        tou_peak_tariff = selected_tariff['peak_rate'] / 100.0, \n",
    "                        tou_standard_tariff = selected_tariff['standard_rate'] / 100.0, \n",
    "                        tou_offpeak_tariff = selected_tariff['offpeak_rate'] / 100.0, \n",
    "                        solar_ppa_tariff = 1.4,\n",
    "                        debug_flag = True)\n",
    "\n",
    "test_env.reset()"
   ]
  },
  {
   "cell_type": "code",
   "execution_count": null,
   "metadata": {
    "scrolled": true
   },
   "outputs": [],
   "source": [
    "dqn_agent_reward = 0.0\n",
    "action_energy_vals = [-1000.0, -250.0, 0.0, 250.0, 1000.0]\n",
    "\n",
    "writer = SummaryWriter(comment=\"DoubleDQNAgent-TestEnv\")\n",
    "\n",
    "state, _ = test_env.reset()\n",
    "\n",
    "for state_idx in range(24*7):\n",
    "\n",
    "    state_t = torch.as_tensor(np.array(state)).float() # Convert state to torch tensor\n",
    "    state_t = state_t.unsqueeze(0) # Add batch dimension (shape: [1, state_dim]) \n",
    "    \n",
    "    q_vals = dqn_agent_model(state_t)\n",
    "\n",
    "    action = torch.argmax(q_vals, dim=1).item()  # Select action with max Q-value\n",
    "\n",
    "    action_energy = action_energy_vals[action]  # Convert action index to energy value\n",
    "\n",
    "    state, reward, done, truncated, _ = test_env.step(action=action)\n",
    "\n",
    "    writer.add_scalars(\"Microgrid Environment State\", {\"Grid Import Energy\": state[8], \n",
    "                                                       \"Solar PV Production Energy\": state[9],\n",
    "                                                       \"BESS SoC\": state[11],\n",
    "                                                       \"Agent Selected Action Energy\": action_energy}, \n",
    "                                                       state_idx)\n",
    "    \n",
    "    writer.add_scalar(\"DoubleDQN Agent Selected Action Energy\", action_energy, state_idx)\n",
    "\n",
    "    writer.add_scalar(\"DoubleDQN Agent Cumulative Reward\", dqn_agent_reward, state_idx)\n",
    "\n",
    "    dqn_agent_reward += reward"
   ]
  },
  {
   "cell_type": "code",
   "execution_count": null,
   "metadata": {},
   "outputs": [],
   "source": [
    "print(f\"Total DQN Agent Test Reward: {dqn_agent_reward: .2f}\")"
   ]
  },
  {
   "cell_type": "markdown",
   "metadata": {},
   "source": [
    "### Run Fixed Rule Policy For Baseline"
   ]
  },
  {
   "cell_type": "code",
   "execution_count": null,
   "metadata": {
    "scrolled": true
   },
   "outputs": [],
   "source": [
    "fixed_rule_reward = 0.0\n",
    "action_energy_vals = [-1000.0, -250.0, 0.0, 250.0, 1000.0]\n",
    "\n",
    "writer = SummaryWriter(comment=\"FixedRuleAgent-TestEnv\")\n",
    "\n",
    "state, _ = test_env.reset()\n",
    "\n",
    "for state_idx in range(24*7):\n",
    "\n",
    "    action = test_env.rule_based_policy()\n",
    "\n",
    "    action_energy = action_energy_vals[action]\n",
    "\n",
    "    state, reward, done, truncated, _ = test_env.step(action=action)\n",
    "\n",
    "    writer.add_scalars(\"Microgrid Environment State\", {\"Grid Import Energy\": state[8], \n",
    "                                                       \"Solar PV Production Energy\": state[9],\n",
    "                                                       \"BESS SoC\": state[11],\n",
    "                                                       \"Agent Selected Action Energy\": action_energy}, \n",
    "                                                       state_idx)\n",
    "    \n",
    "    writer.add_scalar(\"FixedRule Agent Selected Action Energy\", action_energy, state_idx)\n",
    "\n",
    "    writer.add_scalar(\"FixedRule Agent Cumulative Reward\", fixed_rule_reward, state_idx)\n",
    "\n",
    "    fixed_rule_reward += reward"
   ]
  },
  {
   "cell_type": "code",
   "execution_count": null,
   "metadata": {},
   "outputs": [],
   "source": [
    "print(f\"Total Fixed Rule Test Reward: {fixed_rule_reward: .2f}\")"
   ]
  },
  {
   "cell_type": "code",
   "execution_count": null,
   "metadata": {},
   "outputs": [],
   "source": []
  }
 ],
 "metadata": {
  "accelerator": "GPU",
  "colab": {
   "gpuType": "T4",
   "provenance": []
  },
  "gpuClass": "standard",
  "kernelspec": {
   "display_name": "rl_assignment",
   "language": "python",
   "name": "python3"
  },
  "language_info": {
   "codemirror_mode": {
    "name": "ipython",
    "version": 3
   },
   "file_extension": ".py",
   "mimetype": "text/x-python",
   "name": "python",
   "nbconvert_exporter": "python",
   "pygments_lexer": "ipython3",
   "version": "3.11.8"
  }
 },
 "nbformat": 4,
 "nbformat_minor": 4
}
